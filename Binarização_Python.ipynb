{
  "cells": [
    {
      "cell_type": "markdown",
      "metadata": {
        "colab_type": "text",
        "id": "view-in-github"
      },
      "source": [
        "<a href=\"https://colab.research.google.com/github/Felipe-Harms/Pytohn-para-ML/blob/main/Binariza%C3%A7%C3%A3o_Python.ipynb\" target=\"_parent\"><img src=\"https://colab.research.google.com/assets/colab-badge.svg\" alt=\"Open In Colab\"/></a>"
      ]
    },
    {
      "cell_type": "code",
      "execution_count": 1,
      "metadata": {
        "id": "BTUgxGeWARfi"
      },
      "outputs": [],
      "source": [
        "from PIL import Image"
      ]
    },
    {
      "cell_type": "code",
      "execution_count": 2,
      "metadata": {
        "colab": {
          "base_uri": "https://localhost:8080/"
        },
        "id": "bvg3XaQFAcL_",
        "outputId": "06c78575-e99c-4795-aa53-fedd647a366a"
      },
      "outputs": [
        {
          "name": "stdout",
          "output_type": "stream",
          "text": [
            "Imagem em tons de cinza salva como 'imagem_cinza.png'\n",
            "Imagem binarizada salva como 'imagem_binaria.png'\n"
          ]
        },
        {
          "data": {
            "text/plain": [
              "(<PIL.Image.Image image mode=L size=320x242>,\n",
              " <PIL.Image.Image image mode=L size=320x242>)"
            ]
          },
          "execution_count": 2,
          "metadata": {},
          "output_type": "execute_result"
        }
      ],
      "source": [
        "def binarizar_imagem(caminho_imagem, limiar=128, salvar_cinza=False, salvar_binario=False):\n",
        "    \"\"\"\n",
        "    Converte uma imagem para tons de cinza e preto e branco (binarização).\n",
        "\n",
        "    Parâmetros:\n",
        "        caminho_imagem (str): Caminho para a imagem de entrada.\n",
        "        limiar (int): Valor do limite para binarização (padrão: 128).\n",
        "        salvar_cinza (bool): Se True, salva a imagem em tons de cinza.\n",
        "        salvar_binario (bool): Se True, salva a imagem binarizada.\n",
        "    \"\"\"\n",
        "    # Abre a imagem\n",
        "    imagem = Image.open(caminho_imagem)\n",
        "\n",
        "    # Converte para tons de cinza\n",
        "    imagem_cinza = imagem.convert(\"L\")\n",
        "    if salvar_cinza:\n",
        "        imagem_cinza.save(\"imagem_cinza.png\")\n",
        "        print(\"Imagem em tons de cinza salva como 'imagem_cinza.png'\")\n",
        "\n",
        "    # Converte para preto e branco\n",
        "    imagem_binaria = imagem_cinza.point(lambda p: 255 if p > limiar else 0)\n",
        "    if salvar_binario:\n",
        "        imagem_binaria.save(\"imagem_binaria.png\")\n",
        "        print(\"Imagem binarizada salva como 'imagem_binaria.png'\")\n",
        "\n",
        "    return imagem_cinza, imagem_binaria\n",
        "\n",
        "# Substitua \"caminho_para_imagem.jpg\" pelo caminho da sua imagem.\n",
        "caminho_imagem = \"/content/6414962253_fb7131d575_n.jpg\"\n",
        "binarizar_imagem(caminho_imagem, limiar=128, salvar_cinza=True, salvar_binario=True)\n"
      ]
    }
  ],
  "metadata": {
    "colab": {
      "authorship_tag": "ABX9TyNW1YO02wBwoNLyM/oka+z7",
      "include_colab_link": true,
      "provenance": []
    },
    "kernelspec": {
      "display_name": "Python 3",
      "name": "python3"
    },
    "language_info": {
      "name": "python"
    }
  },
  "nbformat": 4,
  "nbformat_minor": 0
}
