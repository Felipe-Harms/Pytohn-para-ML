{
  "nbformat": 4,
  "nbformat_minor": 0,
  "metadata": {
    "colab": {
      "provenance": [],
      "authorship_tag": "ABX9TyNW1YO02wBwoNLyM/oka+z7",
      "include_colab_link": true
    },
    "kernelspec": {
      "name": "python3",
      "display_name": "Python 3"
    },
    "language_info": {
      "name": "python"
    }
  },
  "cells": [
    {
      "cell_type": "markdown",
      "metadata": {
        "id": "view-in-github",
        "colab_type": "text"
      },
      "source": [
        "<a href=\"https://colab.research.google.com/github/Felipe-Harms/Pytohn-para-ML/blob/main/Binariza%C3%A7%C3%A3o_Python.ipynb\" target=\"_parent\"><img src=\"https://colab.research.google.com/assets/colab-badge.svg\" alt=\"Open In Colab\"/></a>"
      ]
    },
    {
      "cell_type": "code",
      "execution_count": 1,
      "metadata": {
        "id": "BTUgxGeWARfi"
      },
      "outputs": [],
      "source": [
        "from PIL import Image"
      ]
    },
    {
      "cell_type": "code",
      "source": [
        "def binarizar_imagem(caminho_imagem, limiar=128, salvar_cinza=False, salvar_binario=False):\n",
        "    \"\"\"\n",
        "    Converte uma imagem para tons de cinza e preto e branco (binarização).\n",
        "\n",
        "    Parâmetros:\n",
        "        caminho_imagem (str): Caminho para a imagem de entrada.\n",
        "        limiar (int): Valor do limite para binarização (padrão: 128).\n",
        "        salvar_cinza (bool): Se True, salva a imagem em tons de cinza.\n",
        "        salvar_binario (bool): Se True, salva a imagem binarizada.\n",
        "    \"\"\"\n",
        "    # Abre a imagem\n",
        "    imagem = Image.open(caminho_imagem)\n",
        "\n",
        "    # Converte para tons de cinza\n",
        "    imagem_cinza = imagem.convert(\"L\")\n",
        "    if salvar_cinza:\n",
        "        imagem_cinza.save(\"imagem_cinza.png\")\n",
        "        print(\"Imagem em tons de cinza salva como 'imagem_cinza.png'\")\n",
        "\n",
        "    # Converte para preto e branco\n",
        "    imagem_binaria = imagem_cinza.point(lambda p: 255 if p > limiar else 0)\n",
        "    if salvar_binario:\n",
        "        imagem_binaria.save(\"imagem_binaria.png\")\n",
        "        print(\"Imagem binarizada salva como 'imagem_binaria.png'\")\n",
        "\n",
        "    return imagem_cinza, imagem_binaria\n",
        "\n",
        "# Exemplo de uso:\n",
        "# Substitua \"caminho_para_imagem.jpg\" pelo caminho da sua imagem.\n",
        "caminho_imagem = \"/content/6414962253_fb7131d575_n.jpg\"\n",
        "binarizar_imagem(caminho_imagem, limiar=128, salvar_cinza=True, salvar_binario=True)\n"
      ],
      "metadata": {
        "colab": {
          "base_uri": "https://localhost:8080/"
        },
        "id": "bvg3XaQFAcL_",
        "outputId": "06c78575-e99c-4795-aa53-fedd647a366a"
      },
      "execution_count": 2,
      "outputs": [
        {
          "output_type": "stream",
          "name": "stdout",
          "text": [
            "Imagem em tons de cinza salva como 'imagem_cinza.png'\n",
            "Imagem binarizada salva como 'imagem_binaria.png'\n"
          ]
        },
        {
          "output_type": "execute_result",
          "data": {
            "text/plain": [
              "(<PIL.Image.Image image mode=L size=320x242>,\n",
              " <PIL.Image.Image image mode=L size=320x242>)"
            ]
          },
          "metadata": {},
          "execution_count": 2
        }
      ]
    }
  ]
}